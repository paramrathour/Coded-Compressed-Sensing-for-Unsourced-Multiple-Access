{
 "cells": [
  {
   "cell_type": "code",
   "execution_count": 5,
   "metadata": {},
   "outputs": [
    {
     "name": "stdout",
     "output_type": "stream",
     "text": [
      "Optimal p: [1.00000000e+00 3.05176290e-05 3.05176287e-05 3.05176287e-05\n",
      " 3.05176287e-05 3.05176287e-05 3.05176287e-05 3.05176287e-05\n",
      " 3.05176287e-05 3.05176290e-05 3.07792336e-05]\n",
      "Optimal objective value: 2010.9910398406914\n",
      "Lengths [-0. 15. 15. 15. 15. 15. 15. 15. 15. 15. 15.]\n"
     ]
    }
   ],
   "source": [
    "import cvxpy as cp\n",
    "import numpy as np\n",
    "class ConvexProblemSolver:\n",
    "    def __init__(self, n, K, M, B, epsilon_tree, J):\n",
    "        self.n = n\n",
    "        self.K = K\n",
    "        self.M = M\n",
    "        self.B = B\n",
    "        self.epsilon_tree = epsilon_tree\n",
    "        self.J = J\n",
    "\n",
    "        \n",
    "\n",
    "    def solve(self):\n",
    "        # Define variables\n",
    "        self.p = cp.Variable(self.n, pos=True)\n",
    " \n",
    "        # Define expected value of tilde_L_n_minus_1\n",
    "        expected_tilde_L_n_minus_1 = cp.sum([K**(n-1-q) * (K-1) * cp.prod([self.p[l] for l in range(q, n)]) for q in range(1,n)])\n",
    "\n",
    "        # Define expected value of tilde_C_tree\n",
    "        expected_tilde_C_tree = (n-1) * K + K * cp.sum([cp.sum([K**(j-q) * (K-1) * cp.prod([self.p[l] for l in range(q, j+1)]) for q in range(1,j+1)]) for j in range(1,n-2+1)])\n",
    "\n",
    "        # Define objective function\n",
    "        self.objective = cp.Minimize(expected_tilde_C_tree)\n",
    "\n",
    "        # Define constraints\n",
    "        self.constraints = [\n",
    "            expected_tilde_L_n_minus_1 <= self.epsilon_tree,\n",
    "\n",
    "            # cp.sum([cp.log(1/self.p[j])/cp.log(2) for j in range(1,n)]) == self.M - self.B,\n",
    "            \n",
    "            self.p >= 1/(2**self.J),\n",
    "            self.p <= 1,\n",
    "            self.p[0]==1\n",
    "        ]\n",
    "        # Define optimization problem\n",
    "        problem = cp.Problem(self.objective, self.constraints)\n",
    "\n",
    "        # Solve the problem\n",
    "        problem.solve(gp='True')\n",
    "        \n",
    "\n",
    "\n",
    "        # Get optimal values\n",
    "        optimal_p = self.p.value\n",
    "        optimal_value = problem.value\n",
    "        rounded_optimal_lengths = np.round(1/np.log(2)*np.log(1/optimal_p))\n",
    "        # log(1/2^0) to the base 2 is \n",
    "        return optimal_p, optimal_value,rounded_optimal_lengths\n",
    " \n",
    "\n",
    "# Example usage based on values in section 6 simulation results\n",
    "n = 11  # Number of variables\n",
    "K = 200  # Some value for K\n",
    "B = 75   # Some value for B\n",
    "epsilon_tree = 0.0069  # Some value for epsilon_tree\n",
    "J = 15  # Some value for J\n",
    "M = n*J # Some value for M\n",
    "\n",
    "solver = ConvexProblemSolver(n, K, M, B, epsilon_tree, J)\n",
    "optimal_p, optimal_value,lengths = solver.solve()\n",
    "\n",
    "print(\"Optimal p:\", optimal_p)\n",
    "print(\"Optimal objective value:\", optimal_value)\n",
    "print(\"Lengths\", lengths)\n"
   ]
  },
  {
   "cell_type": "code",
   "execution_count": 3,
   "metadata": {},
   "outputs": [
    {
     "name": "stdout",
     "output_type": "stream",
     "text": [
      "1.4.1\n"
     ]
    }
   ],
   "source": [
    "import cvxpy as cp\n",
    "print(cp.__version__)\n"
   ]
  },
  {
   "cell_type": "code",
   "execution_count": null,
   "metadata": {},
   "outputs": [],
   "source": []
  }
 ],
 "metadata": {
  "kernelspec": {
   "display_name": "Python 3",
   "language": "python",
   "name": "python3"
  },
  "language_info": {
   "codemirror_mode": {
    "name": "ipython",
    "version": 3
   },
   "file_extension": ".py",
   "mimetype": "text/x-python",
   "name": "python",
   "nbconvert_exporter": "python",
   "pygments_lexer": "ipython3",
   "version": "3.10.7"
  }
 },
 "nbformat": 4,
 "nbformat_minor": 2
}
